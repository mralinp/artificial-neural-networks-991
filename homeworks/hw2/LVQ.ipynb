{
 "cells": [
  {
   "cell_type": "markdown",
   "metadata": {},
   "source": [
    "# LVQ.1 from scrach\n",
    "## Part one\n",
    "Remember LVQ algorithms? Well in this problem we would like to implement two LVQ algorithms fora binary classification task.\n",
    "\n",
    "* 1.  LVQ 2.1\n",
    "* 2.  LVQ 3\n",
    "\n",
    "The dataset to evaluate your code is attached.  Please note that you should split the data into trainingand validation sets (9.0 ratio).  The last column is a label for each point.\n",
    "\n",
    "Please be advised, any use of python libraries, which have predefined algorithms is strictly prohibited.You should use numpy for your implementation (Tensorflow implementation has bonus score).\n",
    "\n",
    "> Notes: Codes should be implemented in .ipynb format (notebooks)\n",
    "> All Code cells should be executed before turning in the assignment (Make sure your outputs arethere before you submit your assignment)\n",
    "> Please explain the code and the results in the notebook\n",
    "> We will not answer any further questions as comprehension of the questions is part of your overallscore\n",
    "> Please upload your assignments as a zipped folder with all necessary componentsPage 3 of 3\n",
    "\n"
   ]
  },
  {
   "cell_type": "code",
   "execution_count": 2,
   "metadata": {},
   "outputs": [],
   "source": [
    "import numpy as np\n",
    "import pandas as pd\n",
    "from tqdm.notebook import tqdm\n",
    "import tensorflow as tf\n",
    "from tensorflow import keras"
   ]
  },
  {
   "cell_type": "code",
   "execution_count": null,
   "metadata": {},
   "outputs": [],
   "source": []
  }
 ],
 "metadata": {
  "kernelspec": {
   "display_name": "Python 3",
   "language": "python",
   "name": "python3"
  },
  "language_info": {
   "codemirror_mode": {
    "name": "ipython",
    "version": 3
   },
   "file_extension": ".py",
   "mimetype": "text/x-python",
   "name": "python",
   "nbconvert_exporter": "python",
   "pygments_lexer": "ipython3",
   "version": "3.8.3"
  }
 },
 "nbformat": 4,
 "nbformat_minor": 4
}
