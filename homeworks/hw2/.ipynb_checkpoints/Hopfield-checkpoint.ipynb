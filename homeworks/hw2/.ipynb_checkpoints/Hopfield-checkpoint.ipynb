{
 "cells": [
  {
   "cell_type": "markdown",
   "metadata": {},
   "source": [
    "# Question 3 Hopfield Network\n",
    "## Part a\n",
    "Considering **Hopfield network** and its training algorithm, train a Hopfield network that can recognize the following patterns."
   ]
  },
  {
   "cell_type": "code",
   "execution_count": 24,
   "metadata": {},
   "outputs": [
    {
     "data": {
      "image/png": "[encoded data removed]",
      "text/plain": [
       "<Figure size 432x288 with 3 Axes>"
      ]
     },
     "metadata": {
      "needs_background": "light"
     },
     "output_type": "display_data"
    }
   ],
   "source": [
    "import cv2 as cv\n",
    "import numpy as np\n",
    "import matplotlib.pyplot as plt\n",
    "from tqdm.notebook import tqdm\n",
    "\n",
    "patern = [np.array([[1,1,-1,1],[-1,-1,1,-1], [-1,-1,1,-1], [1,1,-1,1]])*-1]\n",
    "patern +=[np.array([[1,1,-1,1],[-1,-1,1,-1], [-1,1,-1,1], [1,-1,-1,1]])*-1]\n",
    "patern += [np.array([[-1,1,1,-1],[-1,-1,1,1], [-1,1,-1,1], [1,-1,-1,-1]])*-1]\n",
    "\n",
    "plt.subplot(1, 3, 1)\n",
    "plt.title(\"Pattern 1\")\n",
    "plt.imshow(patern[0], cmap='gray', vmin=-1, vmax=1)\n",
    "plt.subplot(1, 3, 2)\n",
    "plt.title(\"Pattern 2\")\n",
    "plt.imshow(patern[1], cmap='gray', vmin=-1, vmax=1)\n",
    "plt.subplot(1, 3, 3)\n",
    "plt.title(\"Pattern 3\")\n",
    "plt.imshow(patern[2], cmap='gray', vmin=-1, vmax=1)\n",
    "plt.tight_layout()\n",
    "plt.show()\n"
   ]
  },
  {
   "cell_type": "markdown",
   "metadata": {},
   "source": [
    "Calculating weights using its formula as below:\n",
    "\\begin{equation*}\n",
    "{W_i}_j =  \\sum_{k=1}^{\\#patterns} {X^k}_i \\times {X^k}_j \n",
    "\\end{equation*}\n"
   ]
  },
  {
   "cell_type": "code",
   "execution_count": 25,
   "metadata": {},
   "outputs": [
    {
     "name": "stdout",
     "output_type": "stream",
     "text": [
      "[[ 0.  1. -3.  3. -1. -1.  1. -3. -1. -1.  1. -1.  1.  1. -1.  3.]\n",
      " [ 1.  0. -1.  1. -3. -3.  3. -1. -3.  1. -1.  1.  3. -1. -3.  1.]\n",
      " [-3. -1.  0. -3.  1.  1. -1.  3.  1.  1. -1.  1. -1. -1.  1. -3.]\n",
      " [ 3.  1. -3.  0. -1. -1.  1. -3. -1. -1.  1. -1.  1.  1. -1.  3.]\n",
      " [-1. -3.  1. -1.  0.  3. -3.  1.  3. -1.  1. -1. -3.  1.  3. -1.]\n",
      " [-1. -3.  1. -1.  3.  0. -3.  1.  3. -1.  1. -1. -3.  1.  3. -1.]\n",
      " [ 1.  3. -1.  1. -3. -3.  0. -1. -3.  1. -1.  1.  3. -1. -3.  1.]\n",
      " [-3. -1.  3. -3.  1.  1. -1.  0.  1.  1. -1.  1. -1. -1.  1. -3.]\n",
      " [-1. -3.  1. -1.  3.  3. -3.  1.  0. -1.  1. -1. -3.  1.  3. -1.]\n",
      " [-1.  1.  1. -1. -1. -1.  1.  1. -1.  0. -3.  3.  1. -3. -1. -1.]\n",
      " [ 1. -1. -1.  1.  1.  1. -1. -1.  1. -3.  0. -3. -1.  3.  1.  1.]\n",
      " [-1.  1.  1. -1. -1. -1.  1.  1. -1.  3. -3.  0.  1. -3. -1. -1.]\n",
      " [ 1.  3. -1.  1. -3. -3.  3. -1. -3.  1. -1.  1.  0. -1. -3.  1.]\n",
      " [ 1. -1. -1.  1.  1.  1. -1. -1.  1. -3.  3. -3. -1.  0.  1.  1.]\n",
      " [-1. -3.  1. -1.  3.  3. -3.  1.  3. -1.  1. -1. -3.  1.  0. -1.]\n",
      " [ 3.  1. -3.  3. -1. -1.  1. -3. -1. -1.  1. -1.  1.  1. -1.  0.]]\n"
     ]
    }
   ],
   "source": [
    "height, width = patern[0].shape\n",
    "for p in range(len(patern)):\n",
    "    patern[p] = patern[p].ravel()\n",
    "w = np.zeros((width*height, width*height))\n",
    "\n",
    "for i in range(w.shape[0]):\n",
    "    for j in range(w.shape[1]):\n",
    "        for k in range(len(patern)):\n",
    "            if(i != j):\n",
    "                w[i ,j] += patern[k][i]*patern[k][j]\n",
    "print(w)"
   ]
  },
  {
   "cell_type": "markdown",
   "metadata": {},
   "source": [
    "## Part b\n",
    "\n",
    "What whuld be the output of the network by starting from given sample bellow?"
   ]
  },
  {
   "cell_type": "code",
   "execution_count": 26,
   "metadata": {},
   "outputs": [
    {
     "data": {
      "image/png": "[encoded data removed]",
      "text/plain": [
       "<Figure size 432x288 with 1 Axes>"
      ]
     },
     "metadata": {
      "needs_background": "light"
     },
     "output_type": "display_data"
    }
   ],
   "source": [
    "sample = np.array([[1,-1,1,1],[-1,-1,1,-1],[1,1,-1,-1],[1,-1,-1,1]])*-1\n",
    "plt.title('Test sample')\n",
    "plt.imshow(sample, cmap='gray', vmin=-1, vmax=1)\n",
    "\n",
    "plt.show()"
   ]
  },
  {
   "cell_type": "markdown",
   "metadata": {},
   "source": [
    "Let's assume our activation function is a bipolar activation function like:\n",
    "$$\n",
    "f(x) = \\left\\{\n",
    "    \\begin{array}\\\\\n",
    "        1 & \\mbox{if } \\ x \\ge 0 \\\\\n",
    "        -1 & \\mbox{if } \\ x < 0\n",
    "    \\end{array}\n",
    "\\right.\n",
    "$$\n",
    "By Asynchronously updating the pattern and starting from the given pattern it would stop at a local minimum point as bellows:"
   ]
  },
  {
   "cell_type": "code",
   "execution_count": 35,
   "metadata": {
    "tags": []
   },
   "outputs": [
    {
     "name": "stdout",
     "output_type": "stream",
     "text": [
      "Iteration #1\n",
      "current state:\n",
      " [-1  1 -1 -1  1  1 -1  1 -1 -1  1  1 -1  1  1 -1]\n",
      "new state:\n",
      " [-1 -1  1 -1  1  1 -1  1  1 -1  1 -1 -1  1  1 -1]\n",
      "Iteration #2\n",
      "current state:\n",
      " [-1 -1  1 -1  1  1 -1  1  1 -1  1 -1 -1  1  1 -1]\n",
      "new state:\n",
      " [-1 -1  1 -1  1  1 -1  1  1 -1  1 -1 -1  1  1 -1]\n"
     ]
    },
    {
     "data": {
      "image/png": "[encoded data removed]",
      "text/plain": [
       "<Figure size 432x288 with 1 Axes>"
      ]
     },
     "metadata": {
      "needs_background": "light"
     },
     "output_type": "display_data"
    }
   ],
   "source": [
    "def activation(x):\n",
    "    return 1 if (x >= 0) else -1\n",
    "\n",
    "current_state = sample.ravel()\n",
    "next_state = np.zeros(current_state.shape) + -2\n",
    "flag = False\n",
    "counter = 1\n",
    "while(np.array_equal(current_state, next_state) == False):\n",
    "    print(\"Iteration #%d\" % (counter))\n",
    "    counter+=1\n",
    "    if(flag):\n",
    "        current_state = np.array(next_state)\n",
    "    else:\n",
    "        next_state = np.array(current_state)\n",
    "        flag = True\n",
    "    l = np.arange(next_state.shape[0])\n",
    "    np.random.shuffle(l)\n",
    "    for k in l:\n",
    "        res = 0\n",
    "        for i in range(w.shape[0]):\n",
    "            res += w[k,i]*next_state[i]\n",
    "        next_state[k] = int(activation(res))\n",
    "    print(\"current state:\\n\", current_state)\n",
    "    print(\"new state:\\n\", next_state)\n",
    "\n",
    "result = current_state.reshape(4,4)\n",
    "plt.title(\"Result\")\n",
    "plt.imshow(result, cmap='gray', vmin=-1, vmax=1)\n",
    "plt.show()"
   ]
  }
 ],
 "metadata": {
  "kernelspec": {
   "display_name": "Python 3",
   "language": "python",
   "name": "python3"
  },
  "language_info": {
   "codemirror_mode": {
    "name": "ipython",
    "version": 3
   },
   "file_extension": ".py",
   "mimetype": "text/x-python",
   "name": "python",
   "nbconvert_exporter": "python",
   "pygments_lexer": "ipython3",
   "version": "3.8.3"
  }
 },
 "nbformat": 4,
 "nbformat_minor": 2
}
